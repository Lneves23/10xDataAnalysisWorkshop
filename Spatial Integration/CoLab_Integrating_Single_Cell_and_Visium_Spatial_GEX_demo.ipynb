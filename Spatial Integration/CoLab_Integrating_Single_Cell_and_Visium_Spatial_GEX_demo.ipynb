{
  "cells": [
    {
      "cell_type": "markdown",
      "metadata": {
        "id": "view-in-github",
        "colab_type": "text"
      },
      "source": [
        "<a href=\"https://colab.research.google.com/github/Lneves23/10xDataAnalysisWorkshop/blob/main/CoLab_Integrating_Single_Cell_and_Visium_Spatial_GEX_demo.ipynb\" target=\"_parent\"><img src=\"https://colab.research.google.com/assets/colab-badge.svg\" alt=\"Open In Colab\"/></a>"
      ]
    },
    {
      "cell_type": "markdown",
      "id": "c1b6e617-7832-4d9d-8aa4-73060b662d54",
      "metadata": {
        "id": "c1b6e617-7832-4d9d-8aa4-73060b662d54"
      },
      "source": [
        "# Integrating Single Cell and Visium Spatial Gene Expression Data\n",
        "\n"
      ]
    },
    {
      "cell_type": "markdown",
      "id": "1acfba16-fbd3-4429-b73f-56cb0368ed28",
      "metadata": {
        "id": "1acfba16-fbd3-4429-b73f-56cb0368ed28"
      },
      "source": [
        "2024"
      ]
    },
    {
      "cell_type": "markdown",
      "id": "09357ae0-9cb8-4a7e-9d19-a59048a927b4",
      "metadata": {
        "id": "09357ae0-9cb8-4a7e-9d19-a59048a927b4"
      },
      "source": [
        "\n",
        "Uses spacexr, an R-based community developed tool, to integrate paired single-cell and spatial datasets: https://github.com/dmcable/spacexr\n",
        "\n",
        "Code is based on the 10x Genomics Analysis Guide 'Integrating 10x Visium and Chromium Data with R': https://www.10xgenomics.com/analysis-guides/integrating-10x-visium-and-chromium-data-with-r"
      ]
    },
    {
      "cell_type": "markdown",
      "id": "261b958e-0d7a-4b83-906e-70207dacf65c",
      "metadata": {
        "id": "261b958e-0d7a-4b83-906e-70207dacf65c"
      },
      "source": [
        "# Install packages"
      ]
    },
    {
      "cell_type": "markdown",
      "source": [
        "**Step 1:**\n",
        "\n",
        "Adjust Ubuntu parameters for downloading R packages.\n",
        "\n",
        "*This is only required for Google CoLabs. This is not needed for use in RStudio.*"
      ],
      "metadata": {
        "id": "D68yjDhJ2-o5"
      },
      "id": "D68yjDhJ2-o5"
    },
    {
      "cell_type": "code",
      "source": [
        "system('apt-get update')\n",
        "system('sudo apt-get install libudunits2-dev libgdal-dev libgeos-dev libproj-dev libglpk-dev libmagick++-dev libgsl-dev')"
      ],
      "metadata": {
        "id": "SlzCzimHtzFX"
      },
      "id": "SlzCzimHtzFX",
      "execution_count": null,
      "outputs": []
    },
    {
      "cell_type": "markdown",
      "id": "5b5da3ca-f9ca-4a35-869f-4ea7c4f3c83a",
      "metadata": {
        "id": "5b5da3ca-f9ca-4a35-869f-4ea7c4f3c83a"
      },
      "source": [
        "**Step 2:**\n",
        "\n",
        "Install and load necessary packages for Seurat and SpaceXR.\n",
        "\n",
        "*This can take approximately 25 minutes.*\n",
        "\n"
      ]
    },
    {
      "cell_type": "code",
      "execution_count": null,
      "id": "621bc814-0e4b-4295-8a52-255d027d1fe7",
      "metadata": {
        "id": "621bc814-0e4b-4295-8a52-255d027d1fe7",
        "collapsed": true
      },
      "outputs": [],
      "source": [
        "if (!require(\"remotes\")) install.packages(\"remotes\")\n",
        "if (!require(\"hdf5r\")) install.packages(\"hdf5r\")\n",
        "if (!require(\"Seurat\")) install.packages(\"Seurat\")\n",
        "if (!require(\"ggplot2\")) install.packages(\"ggplot2\")\n",
        "devtools::install_github(\"dmcable/spacexr\", build_vignettes = FALSE)"
      ]
    },
    {
      "cell_type": "markdown",
      "id": "a96c9656-1679-4aa2-90d0-c4038a357f97",
      "metadata": {
        "id": "a96c9656-1679-4aa2-90d0-c4038a357f97"
      },
      "source": [
        "**Step 3:**\n",
        "\n",
        "Load Seurat, SpaceXR, and other necessary packages."
      ]
    },
    {
      "cell_type": "code",
      "source": [
        "library(spacexr)\n",
        "library(Seurat)\n",
        "library(ggplot2)\n",
        "library(hdf5r)"
      ],
      "metadata": {
        "id": "oZjEyYiCtMrV"
      },
      "id": "oZjEyYiCtMrV",
      "execution_count": null,
      "outputs": []
    },
    {
      "cell_type": "markdown",
      "id": "61354571-b114-4514-b439-ed8a6fa1290b",
      "metadata": {
        "id": "61354571-b114-4514-b439-ed8a6fa1290b"
      },
      "source": [
        "\n",
        "# Download single-cell dataset\n",
        "\n",
        "\n"
      ]
    },
    {
      "cell_type": "markdown",
      "id": "6874de1c-2811-4430-acd4-3a42b26c2f2f",
      "metadata": {
        "id": "6874de1c-2811-4430-acd4-3a42b26c2f2f"
      },
      "source": [
        "**Step 4:**\n",
        "\n",
        "1.   Download matrix data (.h5) to integrate from this dataset: https://www.10xgenomics.com/datasets/mixture-of-colorectal-cancer-and-healthy-kidney-ffpe-tissues-dissociated-manually-or-using-gentlemacs-dissociator-multiplexed-samples-4-probe-barcodes-1-standard\n",
        "\n",
        "2.   Read in and create a Seurat object from single-cell matrix."
      ]
    },
    {
      "cell_type": "code",
      "execution_count": null,
      "id": "bad627a9-3320-4a88-86f8-a1c7d4fa1dc0",
      "metadata": {
        "id": "bad627a9-3320-4a88-86f8-a1c7d4fa1dc0"
      },
      "outputs": [],
      "source": [
        "download.file(\"https://cf.10xgenomics.com/samples/cell-exp/7.1.0/4plex_human_colorectal_kidney_scFFPE_multiplex_Colorectal_Octo_BC2/4plex_human_colorectal_kidney_scFFPE_multiplex_Colorectal_Octo_BC2_count_sample_filtered_feature_bc_matrix.h5\",\"Colorectal_Cancer_Matrix.h5\")\n",
        "\n",
        "Counts <- Read10X_h5(\"Colorectal_Cancer_Matrix.h5\")\n",
        "count_SeuratObject <- CreateSeuratObject(Counts)\n",
        "sc_counts <- count_SeuratObject[[\"RNA\"]]$counts"
      ]
    },
    {
      "cell_type": "markdown",
      "source": [
        "**Step 5:**\n",
        "\n",
        "Download cell annotations file from Loupe Browser"
      ],
      "metadata": {
        "id": "zCmIZeW7gtDg"
      },
      "id": "zCmIZeW7gtDg"
    },
    {
      "cell_type": "code",
      "source": [
        "celltype <- read.csv(\"https://raw.githubusercontent.com/Lneves23/10xDataAnalysisWorkshop/refs/heads/main/Spatial%20Integration/CellTypes_fromLoupe.csv\")\n",
        "celltype <- setNames(celltype[[2]], celltype[[1]])\n",
        "table(celltype)\n",
        "celltype <- as.factor(celltype)"
      ],
      "metadata": {
        "id": "qac1VJdTg0jc"
      },
      "id": "qac1VJdTg0jc",
      "execution_count": null,
      "outputs": []
    },
    {
      "cell_type": "markdown",
      "metadata": {
        "id": "YNHF2mwd3ase"
      },
      "source": [
        "# Download Visium dataset"
      ],
      "id": "YNHF2mwd3ase"
    },
    {
      "cell_type": "markdown",
      "metadata": {
        "id": "Du-3Rp803qIi"
      },
      "source": [
        "**Step 6:**\n",
        "\n",
        "1.   Download Visium data output package:https://www.10xgenomics.com/datasets/human-colorectal-cancer-11-mm-capture-area-ffpe-2-standard\n",
        "\n",
        "2.   Read in and create a Seurat Visium Spatial object from output folder from SpaceRanger\n",
        "\n",
        "Generates spatial plot of UMI counts"
      ],
      "id": "Du-3Rp803qIi"
    },
    {
      "cell_type": "code",
      "execution_count": null,
      "metadata": {
        "id": "XWCfFExV37-q"
      },
      "outputs": [],
      "source": [
        "system(\"mkdir ColorectalCancerVisiumOuts\")\n",
        "download.file(\"https://cf.10xgenomics.com/samples/spatial-exp/2.0.1/CytAssist_11mm_FFPE_Human_Colorectal_Cancer/CytAssist_11mm_FFPE_Human_Colorectal_Cancer_filtered_feature_bc_matrix.h5\", \"ColorectalCancerVisiumOuts/filtered_feature_bc_matrix.h5\")\n",
        "download.file(\"https://cf.10xgenomics.com/samples/spatial-exp/2.0.1/CytAssist_11mm_FFPE_Human_Colorectal_Cancer/CytAssist_11mm_FFPE_Human_Colorectal_Cancer_filtered_feature_bc_matrix.tar.gz\", \"ColorectalCancerVisiumOuts/filtered_feature_bc_matrix.tar.gz\")\n",
        "download.file(\"https://cf.10xgenomics.com/samples/spatial-exp/2.0.1/CytAssist_11mm_FFPE_Human_Colorectal_Cancer/CytAssist_11mm_FFPE_Human_Colorectal_Cancer_analysis.tar.gz\", \"ColorectalCancerVisiumOuts/analysis.tar.gz\")\n",
        "download.file(\"https://cf.10xgenomics.com/samples/spatial-exp/2.0.1/CytAssist_11mm_FFPE_Human_Colorectal_Cancer/CytAssist_11mm_FFPE_Human_Colorectal_Cancer_spatial.tar.gz\", \"ColorectalCancerVisiumOuts/spatial.tar.gz\")\n",
        "download.file(\"https://cf.10xgenomics.com/samples/spatial-exp/2.0.1/CytAssist_11mm_FFPE_Human_Colorectal_Cancer/CytAssist_11mm_FFPE_Human_Colorectal_Cancer_metrics_summary.csv\", \"ColorectalCancerVisiumOuts/metrics_summary.csv\")\n",
        "untar(\"ColorectalCancerVisiumOuts/spatial.tar.gz\", exdir = \"ColorectalCancerVisiumOuts\")\n",
        "VisiumData <- read.VisiumSpatialRNA(\"ColorectalCancerVisiumOuts\")\n",
        "barcodes <- colnames(VisiumData@counts)\n",
        "\n",
        "plot_puck_continuous(puck=VisiumData, barcodes=barcodes, plot_val=VisiumData@nUMI,\n",
        "                     size=1, ylimit=c(0,round(quantile(VisiumData@nUMI,0.9))),\n",
        "                     title='plot of nUMI')"
      ],
      "id": "XWCfFExV37-q"
    },
    {
      "cell_type": "markdown",
      "source": [
        "**Step 7**\n",
        "\n",
        "Adjust coordinates to match H&E image\n",
        "Scale projected image to original H&E image"
      ],
      "metadata": {
        "id": "px6dviTSddX5"
      },
      "id": "px6dviTSddX5"
    },
    {
      "cell_type": "code",
      "source": [
        "vis_coords <- read.csv(\"ColorectalCancerVisiumOuts/spatial/tissue_positions.csv\", header = TRUE)\n",
        "vis_coords[,7] <- vis_coords[,3]\n",
        "vis_coords[,3] <- vis_coords[,4]\n",
        "vis_coords[,4] <- vis_coords[,7]\n",
        "vis_coords <- vis_coords[,1:6]\n",
        "vis_coords[,4] <- vis_coords[,4]*1.756\n",
        "\n",
        "write.table(vis_coords, \"ColorectalCancerVisiumOuts/spatial/tissue_positions.csv\", quote=FALSE, row.names=FALSE, sep=',')\n",
        "\n",
        "VisiumData <- read.VisiumSpatialRNA(\"ColorectalCancerVisiumOuts\")\n",
        "\n",
        "plot_puck_continuous(puck=VisiumData, barcodes=barcodes, plot_val=VisiumData@nUMI,\n",
        "                     size=1, ylimit=c(0,round(quantile(VisiumData@nUMI,0.9))),\n",
        "                     title='plot of nUMI')"
      ],
      "metadata": {
        "collapsed": true,
        "id": "e0NGO4z6dsjf"
      },
      "id": "e0NGO4z6dsjf",
      "execution_count": null,
      "outputs": []
    },
    {
      "cell_type": "markdown",
      "id": "ae0cffa6-3789-4c75-8b91-2e4d4ccaf457",
      "metadata": {
        "id": "ae0cffa6-3789-4c75-8b91-2e4d4ccaf457"
      },
      "source": [
        "#Create a reference file from Chromium single-cell data"
      ]
    },
    {
      "cell_type": "markdown",
      "id": "5184979b-eb44-40c6-94e2-1408b81dd1b8",
      "metadata": {
        "id": "5184979b-eb44-40c6-94e2-1408b81dd1b8"
      },
      "source": [
        "**Step 8:**\n",
        "\n",
        "1.   Create matrices using gene and UMI counts from loaded Chromium dataset.\n",
        "2.   Generate a reference file from gene counts, umis, and cell types\n",
        "\n"
      ]
    },
    {
      "cell_type": "code",
      "execution_count": null,
      "id": "549fe6a5-d29f-4522-bc19-1de397399fce",
      "metadata": {
        "id": "549fe6a5-d29f-4522-bc19-1de397399fce"
      },
      "outputs": [],
      "source": [
        "sc_counts <- count_SeuratObject[[\"RNA\"]]$counts\n",
        "\n",
        "sc_umis <- count_SeuratObject@meta.data[,c(1,2)]\n",
        "sc_umis <- setNames(sc_umis[[2]], rownames(sc_umis))\n",
        "\n",
        "SCreference <- Reference(sc_counts, celltype, sc_umis)"
      ]
    },
    {
      "cell_type": "markdown",
      "id": "59f2febf-cca9-4e17-bec0-64780bb3a826",
      "metadata": {
        "id": "59f2febf-cca9-4e17-bec0-64780bb3a826"
      },
      "source": [
        "# Visium spot deconvolution and cell type annotation\n",
        "\n",
        "Use SpaceXR to run robust cell type deconvolution.\n",
        "\n",
        "See 10x Genomics Analysis Guide for more: https://www.10xgenomics.com/analysis-guides/integrating-single-cell-and-visium-spatial-gene-expression-data"
      ]
    },
    {
      "cell_type": "markdown",
      "source": [
        "**Step 9:**\n",
        "\n",
        "Run SpaceXR to deconvolute Visium spots and assign cell types using the single-cell reference file from Step 6 to deconvolute Visium spots and assign cell types."
      ],
      "metadata": {
        "id": "ngW4iv_D2eBq"
      },
      "id": "ngW4iv_D2eBq"
    },
    {
      "cell_type": "code",
      "source": [
        "myRCTD <- create.RCTD(VisiumData, SCreference, max_cores = 2)\n",
        "myRCTD <- run.RCTD(myRCTD, doublet_mode = \"full\")\n",
        "\n",
        "# Extract barcodes and weighted cell types for each spot, then normalize\n",
        "barcodes <- colnames(myRCTD@spatialRNA@counts)\n",
        "weights <- myRCTD@results$weights\n",
        "norm_weights <- normalize_weights(weights)\n",
        "cell_type_names<-colnames(norm_weights)"
      ],
      "metadata": {
        "id": "ulGhy3JA2gDD"
      },
      "id": "ulGhy3JA2gDD",
      "execution_count": null,
      "outputs": []
    },
    {
      "cell_type": "markdown",
      "id": "637b3b05-3ce5-4640-84c6-bd502c046a4f",
      "metadata": {
        "id": "637b3b05-3ce5-4640-84c6-bd502c046a4f"
      },
      "source": [
        "**Step 10:**\n",
        "\n",
        "Generate spatial plots with annotated cell types"
      ]
    },
    {
      "cell_type": "code",
      "execution_count": null,
      "id": "9bf20fe2-812f-4b08-925e-d77f303729a4",
      "metadata": {
        "id": "9bf20fe2-812f-4b08-925e-d77f303729a4"
      },
      "outputs": [],
      "source": [
        "resultsdir <- \"RCTD_output_plots/\"\n",
        "dir.create(resultsdir)\n",
        "\n",
        "#plot all cell types as a bar graph\n",
        "spatialRNA <- myRCTD@spatialRNA\n",
        "plot_cond_occur(cell_type_names, resultsdir, norm_weights, spatialRNA) + theme(axis.text.x = element_text(angle = 45, vjust = 1, hjust=1))\n",
        "ggsave(paste(resultsdir,\"celltype_plot.jpg\", sep=\"\"))\n",
        "\n",
        "\n",
        "#plot BRCA1+ cells\n",
        "plot_puck_continuous(myRCTD@spatialRNA, barcodes, norm_weights[,\"BRCA1+ epithelial\"], title = \"BRCA1+ epithelial\", size=1)\n",
        "ggsave(paste(resultsdir,\"BRCA1pos_cells.jpg\", sep=\"\"))\n",
        "\n",
        "#plot B cells\n",
        "plot_puck_continuous(myRCTD@spatialRNA, barcodes, norm_weights[,\"fibroblast\"], title = \"Fibroblasts\", size=1)\n",
        "ggsave(paste(resultsdir,\"Fibroblasts.jpg\", sep=\"\"))\n"
      ]
    }
  ],
  "metadata": {
    "kernelspec": {
      "display_name": "R",
      "name": "ir"
    },
    "language_info": {
      "name": "R"
    },
    "colab": {
      "provenance": [],
      "private_outputs": true,
      "gpuType": "V28",
      "include_colab_link": true
    },
    "accelerator": "TPU"
  },
  "nbformat": 4,
  "nbformat_minor": 5
}
